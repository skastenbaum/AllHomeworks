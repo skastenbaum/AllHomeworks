{
 "cells": [
  {
   "cell_type": "markdown",
   "id": "58185b3c",
   "metadata": {
    "id": "58185b3c"
   },
   "source": [
    "### Paycheck Protection Program\n",
    "\n",
    "Let's analyze **an excerpt** from  <a href=\"https://www.sba.gov/funding-programs/loans/covid-19-relief-options/paycheck-protection-program\">SBA's PPP loan data</a>.\n",
    "\n",
    "The file we're working on is an excerpt so **we can't draw any hypothesis from our findings** in this homework.\n",
    "\n",
    "The excerpt can be found at this link: <a href=\"https://raw.githubusercontent.com/sandeepmj/datasets/main/ppp_excerpt.csv\">https://raw.githubusercontent.com/sandeepmj/datasets/main/ppp_excerpt.csv</a>\n",
    "\n"
   ]
  },
  {
   "cell_type": "code",
   "execution_count": 5,
   "id": "i1Qo4Gze7ZNd",
   "metadata": {
    "executionInfo": {
     "elapsed": 202,
     "status": "ok",
     "timestamp": 1708542693845,
     "user": {
      "displayName": "Sandeep Junnarkar",
      "userId": "15658885848901522782"
     },
     "user_tz": 480
    },
    "id": "i1Qo4Gze7ZNd"
   },
   "outputs": [],
   "source": [
    "## Run the code that resets the default display here to round the numbers, remove scientific notation, etc.\n"
   ]
  },
  {
   "cell_type": "code",
   "execution_count": 6,
   "id": "dRQUAJ8H7YTq",
   "metadata": {
    "executionInfo": {
     "elapsed": 8,
     "status": "ok",
     "timestamp": 1708542693845,
     "user": {
      "displayName": "Sandeep Junnarkar",
      "userId": "15658885848901522782"
     },
     "user_tz": 480
    },
    "id": "dRQUAJ8H7YTq"
   },
   "outputs": [],
   "source": [
    "## Run the code here to return all summary statistics in one go\n"
   ]
  },
  {
   "cell_type": "code",
   "execution_count": 7,
   "id": "6b55ca04",
   "metadata": {
    "executionInfo": {
     "elapsed": 8,
     "status": "ok",
     "timestamp": 1708542693845,
     "user": {
      "displayName": "Sandeep Junnarkar",
      "userId": "15658885848901522782"
     },
     "user_tz": 480
    },
    "id": "6b55ca04"
   },
   "outputs": [],
   "source": [
    "## What is the sum of all the forgiven loans\n"
   ]
  },
  {
   "cell_type": "code",
   "execution_count": 8,
   "id": "10fc2aa1",
   "metadata": {
    "executionInfo": {
     "elapsed": 8,
     "status": "ok",
     "timestamp": 1708542693845,
     "user": {
      "displayName": "Sandeep Junnarkar",
      "userId": "15658885848901522782"
     },
     "user_tz": 480
    },
    "id": "10fc2aa1"
   },
   "outputs": [],
   "source": [
    "## What is the sum of all the forgiven loans\n",
    "## format with dollar sign and thousands separators\n",
    "## round to zero decimals\n"
   ]
  },
  {
   "cell_type": "code",
   "execution_count": 9,
   "id": "35d_-Hfp-rpt",
   "metadata": {
    "executionInfo": {
     "elapsed": 8,
     "status": "ok",
     "timestamp": 1708542693845,
     "user": {
      "displayName": "Sandeep Junnarkar",
      "userId": "15658885848901522782"
     },
     "user_tz": 480
    },
    "id": "35d_-Hfp-rpt"
   },
   "outputs": [],
   "source": [
    "## store in variable called total_loan_forgiven\n"
   ]
  },
  {
   "cell_type": "code",
   "execution_count": 11,
   "id": "85f40afa",
   "metadata": {
    "executionInfo": {
     "elapsed": 8,
     "status": "ok",
     "timestamp": 1708542693845,
     "user": {
      "displayName": "Sandeep Junnarkar",
      "userId": "15658885848901522782"
     },
     "user_tz": 480
    },
    "id": "85f40afa"
   },
   "outputs": [],
   "source": [
    "## return the median for CurrentApprovalAmount loans, InitialApprovalAmount loans and ForgivenessAmount loan amounts\n"
   ]
  },
  {
   "cell_type": "code",
   "execution_count": 12,
   "id": "agAgZitYf6ZP",
   "metadata": {
    "executionInfo": {
     "elapsed": 7,
     "status": "ok",
     "timestamp": 1708542693845,
     "user": {
      "displayName": "Sandeep Junnarkar",
      "userId": "15658885848901522782"
     },
     "user_tz": 480
    },
    "id": "agAgZitYf6ZP"
   },
   "outputs": [],
   "source": [
    "##  Return the above as a frame\n"
   ]
  },
  {
   "cell_type": "code",
   "execution_count": 13,
   "id": "0c26aa08",
   "metadata": {
    "executionInfo": {
     "elapsed": 7,
     "status": "ok",
     "timestamp": 1708542693845,
     "user": {
      "displayName": "Sandeep Junnarkar",
      "userId": "15658885848901522782"
     },
     "user_tz": 480
    },
    "id": "0c26aa08"
   },
   "outputs": [],
   "source": [
    "## get the count, mean and median for CurrentApprovalAmount\n"
   ]
  },
  {
   "cell_type": "code",
   "execution_count": 14,
   "id": "e350c71d",
   "metadata": {
    "executionInfo": {
     "elapsed": 7,
     "status": "ok",
     "timestamp": 1708542693845,
     "user": {
      "displayName": "Sandeep Junnarkar",
      "userId": "15658885848901522782"
     },
     "user_tz": 480
    },
    "id": "e350c71d"
   },
   "outputs": [],
   "source": [
    "## automatically return a frame (without using to_frame()) for the count, mean and median for InitialApprovalAmount, CurrentApprovalAmount\n"
   ]
  }
 ],
 "metadata": {
  "colab": {
   "provenance": [
    {
     "file_id": "1yepcRQfjJBSJQ1e9voMR4wRhRyqiIMRh",
     "timestamp": 1708542416840
    },
    {
     "file_id": "1E6lBk0CybDpYiiIpbN9F2vZv4TLTRdMM",
     "timestamp": 1708539602346
    },
    {
     "file_id": "1xGQnNd1p_PPGTl8XhHSTNwgrGJzg3GJL",
     "timestamp": 1676647902051
    },
    {
     "file_id": "13mkVHyvtYcLg0IQu4I7fAqJ0KjUuVhVY",
     "timestamp": 1676556385459
    },
    {
     "file_id": "1-tVOs87v3x9Dtnvny9lYMSSUjYcnPE5r",
     "timestamp": 1676553506628
    }
   ]
  },
  "kernelspec": {
   "display_name": "Python [conda env:base] *",
   "language": "python",
   "name": "conda-base-py"
  },
  "language_info": {
   "codemirror_mode": {
    "name": "ipython",
    "version": 3
   },
   "file_extension": ".py",
   "mimetype": "text/x-python",
   "name": "python",
   "nbconvert_exporter": "python",
   "pygments_lexer": "ipython3",
   "version": "3.12.7"
  }
 },
 "nbformat": 4,
 "nbformat_minor": 5
}
